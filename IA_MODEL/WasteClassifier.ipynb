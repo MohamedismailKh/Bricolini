{
 "cells": [
  {
   "attachments": {},
   "cell_type": "markdown",
   "metadata": {},
   "source": [
    "Chest X-ray (Pneumonia): Classification Model Using Transfer Learning"
   ]
  },
  {
   "attachments": {},
   "cell_type": "markdown",
   "metadata": {},
   "source": [
    "LIST OF IMPORTS"
   ]
  },
  {
   "cell_type": "code",
   "execution_count": 1,
   "metadata": {},
   "outputs": [],
   "source": [
    "import numpy as np\n",
    "import tensorflow as tf\n",
    "from tensorflow import keras\n",
    "from tensorflow.keras.preprocessing.image import ImageDataGenerator\n",
    "from tensorflow.keras.layers import Dense,Flatten,Dropout,GlobalAveragePooling2D\n",
    "from tensorflow.keras.models import Model\n",
    "from sklearn.metrics import classification_report, confusion_matrix"
   ]
  },
  {
   "attachments": {},
   "cell_type": "markdown",
   "metadata": {},
   "source": [
    "DATA PREPARATION"
   ]
  },
  {
   "cell_type": "code",
   "execution_count": 2,
   "metadata": {},
   "outputs": [],
   "source": [
    "# The paths to the train, validation, and test directories\n",
    "train_path = \"dechets/Train\"\n",
    "val_path = \"dechets/dev\"\n",
    "test_path = \"dechets/test\"\n",
    "\n",
    "# The input image size\n",
    "input_size = (224, 224)\n",
    "\n",
    "# The batch size for the data generators\n",
    "batch_size = 32"
   ]
  },
  {
   "cell_type": "code",
   "execution_count": 3,
   "metadata": {},
   "outputs": [
    {
     "name": "stdout",
     "output_type": "stream",
     "text": [
      "Found 850 images belonging to 3 classes.\n"
     ]
    },
    {
     "name": "stdout",
     "output_type": "stream",
     "text": [
      "Found 225 images belonging to 3 classes.\n",
      "Found 224 images belonging to 3 classes.\n"
     ]
    }
   ],
   "source": [
    "# The data generators for the training, validation, and test sets\n",
    "train_datagen = ImageDataGenerator(\n",
    "    rescale=1./255, \n",
    "    )\n",
    "val_datagen = ImageDataGenerator(rescale=1./255)\n",
    "test_datagen = ImageDataGenerator(rescale=1./255)\n",
    "\n",
    "train_generator = train_datagen.flow_from_directory(train_path, target_size=input_size, batch_size=batch_size, class_mode='categorical')\n",
    "val_generator = val_datagen.flow_from_directory(val_path, target_size=input_size, batch_size=batch_size, class_mode='categorical')\n",
    "test_generator = test_datagen.flow_from_directory(test_path, target_size=input_size, batch_size=batch_size, class_mode='categorical', shuffle=False)"
   ]
  },
  {
   "cell_type": "code",
   "execution_count": 4,
   "metadata": {},
   "outputs": [
    {
     "data": {
      "text/plain": [
       "{'bois': 0, 'construction': 1, 'metal': 2}"
      ]
     },
     "execution_count": 4,
     "metadata": {},
     "output_type": "execute_result"
    }
   ],
   "source": [
    "train_generator.class_indices"
   ]
  },
  {
   "cell_type": "code",
   "execution_count": 5,
   "metadata": {},
   "outputs": [],
   "source": [
    "# The number of classes in the dataset\n",
    "num_classes = 3"
   ]
  },
  {
   "attachments": {},
   "cell_type": "markdown",
   "metadata": {},
   "source": [
    "USING VGG"
   ]
  },
  {
   "cell_type": "code",
   "execution_count": 6,
   "metadata": {},
   "outputs": [],
   "source": [
    "from tensorflow.keras.applications import MobileNet\n",
    "from tensorflow.keras.models import Sequential"
   ]
  },
  {
   "cell_type": "code",
   "execution_count": 7,
   "metadata": {},
   "outputs": [],
   "source": [
    "base_model = MobileNet(weights='imagenet', include_top=False, input_shape=(input_size[0], input_size[1], 3))\n",
    "for layer in base_model.layers:\n",
    "    layer.trainable = False\n"
   ]
  },
  {
   "cell_type": "code",
   "execution_count": 8,
   "metadata": {},
   "outputs": [],
   "source": [
    "# Create a new model that includes the VGG16 layers and adds a few new layers on top\n",
    "model_mobilenet = Sequential([\n",
    "    base_model,\n",
    "    #Flatten(),\n",
    "    GlobalAveragePooling2D(),\n",
    "    Dense(256, activation='relu'),\n",
    "\n",
    "    #Dropout(0.4),\n",
    "    Dense(3, activation='softmax')\n",
    "])"
   ]
  },
  {
   "cell_type": "code",
   "execution_count": 9,
   "metadata": {},
   "outputs": [
    {
     "name": "stdout",
     "output_type": "stream",
     "text": [
      "Model: \"sequential\"\n",
      "_________________________________________________________________\n",
      " Layer (type)                Output Shape              Param #   \n",
      "=================================================================\n",
      " mobilenet_1.00_224 (Functio  (None, 7, 7, 1024)       3228864   \n",
      " nal)                                                            \n",
      "                                                                 \n",
      " global_average_pooling2d (G  (None, 1024)             0         \n",
      " lobalAveragePooling2D)                                          \n",
      "                                                                 \n",
      " dense (Dense)               (None, 256)               262400    \n",
      "                                                                 \n",
      " dense_1 (Dense)             (None, 3)                 771       \n",
      "                                                                 \n",
      "=================================================================\n",
      "Total params: 3,492,035\n",
      "Trainable params: 263,171\n",
      "Non-trainable params: 3,228,864\n",
      "_________________________________________________________________\n"
     ]
    }
   ],
   "source": [
    "model_mobilenet.summary()"
   ]
  },
  {
   "cell_type": "code",
   "execution_count": 10,
   "metadata": {},
   "outputs": [],
   "source": [
    "# Compile the model\n",
    "model_mobilenet.compile(optimizer='adam', loss='categorical_crossentropy', metrics=['accuracy'])"
   ]
  },
  {
   "cell_type": "code",
   "execution_count": 11,
   "metadata": {},
   "outputs": [
    {
     "name": "stdout",
     "output_type": "stream",
     "text": [
      "Epoch 1/8\n",
      "27/27 [==============================] - 17s 580ms/step - loss: 0.6394 - accuracy: 0.7400 - val_loss: 0.4065 - val_accuracy: 0.8400\n",
      "Epoch 2/8\n",
      "27/27 [==============================] - 15s 560ms/step - loss: 0.2586 - accuracy: 0.9000 - val_loss: 0.5413 - val_accuracy: 0.8044\n",
      "Epoch 3/8\n",
      "27/27 [==============================] - 17s 639ms/step - loss: 0.1705 - accuracy: 0.9424 - val_loss: 0.4053 - val_accuracy: 0.8400\n",
      "Epoch 4/8\n",
      "27/27 [==============================] - 17s 646ms/step - loss: 0.1271 - accuracy: 0.9494 - val_loss: 0.4578 - val_accuracy: 0.8222\n",
      "Epoch 5/8\n",
      "27/27 [==============================] - 17s 642ms/step - loss: 0.0685 - accuracy: 0.9835 - val_loss: 0.3912 - val_accuracy: 0.8622\n",
      "Epoch 6/8\n",
      "27/27 [==============================] - 17s 642ms/step - loss: 0.0434 - accuracy: 0.9918 - val_loss: 0.4588 - val_accuracy: 0.8356\n",
      "Epoch 7/8\n",
      "27/27 [==============================] - 17s 646ms/step - loss: 0.0320 - accuracy: 0.9918 - val_loss: 0.4609 - val_accuracy: 0.8444\n",
      "Epoch 8/8\n",
      "27/27 [==============================] - 17s 641ms/step - loss: 0.0248 - accuracy: 0.9953 - val_loss: 0.4338 - val_accuracy: 0.8533\n"
     ]
    },
    {
     "data": {
      "text/plain": [
       "<keras.callbacks.History at 0x1a36dd80f10>"
      ]
     },
     "execution_count": 11,
     "metadata": {},
     "output_type": "execute_result"
    }
   ],
   "source": [
    "# Train the model\n",
    "model_mobilenet.fit(train_generator, steps_per_epoch=len(train_generator),batch_size=32, epochs=8, validation_data=val_generator, validation_steps=len(val_generator))"
   ]
  },
  {
   "cell_type": "code",
   "execution_count": 12,
   "metadata": {},
   "outputs": [
    {
     "name": "stdout",
     "output_type": "stream",
     "text": [
      "7/7 [==============================] - 4s 490ms/step - loss: 0.4698 - accuracy: 0.8214\n",
      "Test loss: 0.469824880361557\n",
      "Test accuracy: 0.8214285969734192\n"
     ]
    }
   ],
   "source": [
    "# Evaluate the model on the test set\n",
    "test_loss_VGG, test_acc_VGG = model_mobilenet.evaluate(test_generator, steps=len(test_generator))\n",
    "print('Test loss:', test_loss_VGG)\n",
    "print('Test accuracy:', test_acc_VGG)"
   ]
  },
  {
   "cell_type": "code",
   "execution_count": 13,
   "metadata": {},
   "outputs": [
    {
     "name": "stdout",
     "output_type": "stream",
     "text": [
      "7/7 [==============================] - 4s 473ms/step\n"
     ]
    }
   ],
   "source": [
    "# Make predictions on the test set\n",
    "test_generator.reset()\n",
    "preds = model_mobilenet.predict(test_generator, steps=len(test_generator), verbose=1)\n",
    "y_true = test_generator.classes\n",
    "y_pred = np.argmax(preds, axis=1)"
   ]
  },
  {
   "cell_type": "code",
   "execution_count": 14,
   "metadata": {},
   "outputs": [
    {
     "name": "stdout",
     "output_type": "stream",
     "text": [
      "Classification Report:\n",
      "              precision    recall  f1-score   support\n",
      "\n",
      "           0       0.76      0.88      0.81        74\n",
      "           1       0.82      0.85      0.84        75\n",
      "           2       0.92      0.73      0.81        75\n",
      "\n",
      "    accuracy                           0.82       224\n",
      "   macro avg       0.83      0.82      0.82       224\n",
      "weighted avg       0.83      0.82      0.82       224\n",
      "\n",
      "Confusion Matrix:\n",
      "[[65  7  2]\n",
      " [ 8 64  3]\n",
      " [13  7 55]]\n"
     ]
    }
   ],
   "source": [
    "#Print the classification report and confusion matrix\n",
    "print('Classification Report:')\n",
    "print(classification_report(y_true, y_pred))\n",
    "\n",
    "print('Confusion Matrix:')\n",
    "print(confusion_matrix(y_true, y_pred))"
   ]
  },
  {
   "cell_type": "code",
   "execution_count": 19,
   "metadata": {},
   "outputs": [
    {
     "name": "stderr",
     "output_type": "stream",
     "text": [
      "WARNING:absl:Function `_wrapped_model` contains input name(s) mobilenet_1.00_224_input with unsupported characters which will be renamed to mobilenet_1_00_224_input in the SavedModel.\n",
      "WARNING:absl:`mobilenet_1.00_224_input` is not a valid tf.function parameter name. Sanitizing to `mobilenet_1_00_224_input`.\n",
      "WARNING:absl:`mobilenet_1.00_224_input` is not a valid tf.function parameter name. Sanitizing to `mobilenet_1_00_224_input`.\n",
      "WARNING:absl:`mobilenet_1.00_224_input` is not a valid tf.function parameter name. Sanitizing to `mobilenet_1_00_224_input`.\n",
      "WARNING:absl:Found untraced functions such as _update_step_xla, _jit_compiled_convolution_op, _jit_compiled_convolution_op, _jit_compiled_convolution_op, _jit_compiled_convolution_op while saving (showing 5 of 28). These functions will not be directly callable after loading.\n"
     ]
    },
    {
     "name": "stdout",
     "output_type": "stream",
     "text": [
      "INFO:tensorflow:Assets written to: classifier_saved_model\\assets\n"
     ]
    },
    {
     "name": "stderr",
     "output_type": "stream",
     "text": [
      "INFO:tensorflow:Assets written to: classifier_saved_model\\assets\n"
     ]
    }
   ],
   "source": [
    "model_mobilenet.save(\"classifier_saved_model\")"
   ]
  },
  {
   "cell_type": "code",
   "execution_count": 23,
   "metadata": {},
   "outputs": [
    {
     "data": {
      "text/plain": [
       "13857264"
      ]
     },
     "execution_count": 23,
     "metadata": {},
     "output_type": "execute_result"
    }
   ],
   "source": [
    "import tensorflow as tf\n",
    "\n",
    "converter = tf.lite.TFLiteConverter.from_saved_model(\"classifier_saved_model\")\n",
    "tflite_model = converter.convert()\n",
    "open(\"classifier.tflite\", \"wb\").write(tflite_model)\n"
   ]
  }
 ],
 "metadata": {
  "kernelspec": {
   "display_name": "base",
   "language": "python",
   "name": "python3"
  },
  "language_info": {
   "codemirror_mode": {
    "name": "ipython",
    "version": 3
   },
   "file_extension": ".py",
   "mimetype": "text/x-python",
   "name": "python",
   "nbconvert_exporter": "python",
   "pygments_lexer": "ipython3",
   "version": "3.9.12"
  },
  "orig_nbformat": 4
 },
 "nbformat": 4,
 "nbformat_minor": 2
}
